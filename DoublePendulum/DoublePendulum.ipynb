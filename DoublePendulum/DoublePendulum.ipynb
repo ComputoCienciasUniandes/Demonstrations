{
 "cells": [
  {
   "cell_type": "markdown",
   "metadata": {},
   "source": [
    "<div>\n",
    "    <center>\n",
    "    <h1> Double pendulum </h1>\n",
    "    <br>\n",
    "    by <a href=\"http://github.com/ComputoCienciasUniandes\"> ComputoCienciasUniandes </a>\n",
    "    <br>\n",
    "    <a href=\"http://github.com/jsbarbosa\"> Juan Barbosa </a>\n",
    "    </center>\n",
    "</div>\n",
    "<hr style=\"height:5px\">"
   ]
  },
  {
   "cell_type": "markdown",
   "metadata": {},
   "source": [
    "# Librerías"
   ]
  },
  {
   "cell_type": "code",
   "execution_count": 1,
   "metadata": {
    "collapsed": false
   },
   "outputs": [
    {
     "name": "stdout",
     "output_type": "stream",
     "text": [
      "Using matplotlib backend: Qt5Agg\n"
     ]
    }
   ],
   "source": [
    "from numpy import sin, cos\n",
    "import numpy as np\n",
    "import matplotlib.pyplot as plt\n",
    "import scipy.integrate as integrate\n",
    "import matplotlib.animation as animation\n",
    "\n",
    "%matplotlib"
   ]
  },
  {
   "cell_type": "markdown",
   "metadata": {},
   "source": [
    "# Sistema\n",
    "\n",
    "Para el péndulo doble las ecuaciones de movimiento se obtienen a partir del lagrangiano del sistema.\n",
    "$$L(q_1, ... q_n, \\dot{q_1}, ..., \\dot{q_n}) = T - V$$\n",
    "\n",
    "<img src=\"https://upload.wikimedia.org/wikipedia/commons/7/78/Double-Pendulum.svg\" width=200px>\n",
    "\n",
    "Con el objetivo de reducir el número de coordenadas para describir el sistema se usan las coordenadas generalizadas $\\theta_1$ y $\\theta_2$.\n",
    "\n",
    "$$\n",
    "\\matrix\n",
    "{\n",
    "    x_1 = L_1\\sin\\theta_1 & \\qquad & y_1 = -L_1\\cos\\theta_1\\\\\n",
    "    x_2 = x_1 + L_2\\sin\\theta_2 & \\qquad & y_2 = y_1 - L_2\\cos\\theta_2\\\\\n",
    "}\n",
    "$$"
   ]
  },
  {
   "cell_type": "code",
   "execution_count": 2,
   "metadata": {
    "collapsed": true
   },
   "outputs": [],
   "source": [
    "import sympy as spy\n",
    "from scipy.constants import g as G\n",
    "from IPython.display import display\n",
    "spy.init_printing()"
   ]
  },
  {
   "cell_type": "code",
   "execution_count": 3,
   "metadata": {
    "collapsed": false
   },
   "outputs": [],
   "source": [
    "L1, L2, t, m1, m2, g = spy.symbols('L_1 L_2 t m_1 m_2 g', real = True, positive = True)\n",
    "\n",
    "theta1 = spy.Function(r'\\theta_1')(t)\n",
    "theta2 = spy.Function(r'\\theta_2')(t)\n",
    "\n",
    "dtheta1 = spy.Function(r'\\dot{\\theta_1}')(t)\n",
    "ddtheta1 = spy.Function(r'\\ddot{\\theta_1}')(t)\n",
    "dtheta2 = spy.Function(r'\\dot{\\theta_2}')(t)\n",
    "ddtheta2 = spy.Function(r'\\ddot{\\theta_2}')(t)\n",
    "\n",
    "symbols_dict = {theta1.diff(t) : dtheta1, theta1.diff(t).diff(t) : ddtheta1, dtheta1.diff(t) : ddtheta1,\n",
    "               theta2.diff(t) : dtheta2, theta2.diff(t).diff(t) : ddtheta2, dtheta2.diff(t) : ddtheta2}\n",
    "\n",
    "x1 = L1 * spy.sin(theta1)\n",
    "y1 = -L1 * spy.cos(theta1)\n",
    "x2 = x1 + L2 * spy.sin(theta2)\n",
    "y2 = y1 - L2 * spy.cos(theta2)"
   ]
  },
  {
   "cell_type": "markdown",
   "metadata": {},
   "source": [
    "La energía cinética se obtiene usando:\n",
    "$$T = T_1 + T_2 = \\dfrac{1}{2}m_1v_1^2 + \\dfrac{1}{2}m_2v_2^2$$\n",
    "las velocidades \n",
    "\n",
    "$$v_i = \\sqrt{\\dot{x_i}^2 + \\dot{y_i}^2}$$"
   ]
  },
  {
   "cell_type": "code",
   "execution_count": 4,
   "metadata": {
    "collapsed": false
   },
   "outputs": [
    {
     "data": {
      "image/png": "[encoded data removed]",
      "text/latex": [
       "$$v_{1} = L_{1} \\sqrt{\\dot{\\theta_1}^{2}{\\left (t \\right )}}$$"
      ],
      "text/plain": [
       "           ____________________\n",
       "          ╱               2    \n",
       "v₁ = L₁⋅╲╱  \\dot{\\theta_1} (t) "
      ]
     },
     "metadata": {},
     "output_type": "display_data"
    },
    {
     "data": {
      "image/png": "[encoded data removed]",
      "text/latex": [
       "$$v_{2} = \\sqrt{L_{1}^{2} \\dot{\\theta_1}^{2}{\\left (t \\right )} + 2 L_{1} L_{2} \\dot{\\theta_1}{\\left (t \\right )} \\dot{\\theta_2}{\\left (t \\right )} \\cos{\\left (\\theta_{1}{\\left (t \\right )} - \\theta_{2}{\\left (t \\right )} \\right )} + L_{2}^{2} \\dot{\\theta_2}^{2}{\\left (t \\right )}}$$"
      ],
      "text/plain": [
       "        ______________________________________________________________________\n",
       "       ╱   2               2                                                  \n",
       "v₂ = ╲╱  L₁ ⋅\\dot{\\theta_1} (t) + 2⋅L₁⋅L₂⋅\\dot{\\theta_1}(t)⋅\\dot{\\theta_2}(t)⋅\n",
       "\n",
       "______________________________________________________\n",
       "                                 2               2    \n",
       "cos(\\theta₁(t) - \\theta₂(t)) + L₂ ⋅\\dot{\\theta_2} (t) "
      ]
     },
     "metadata": {},
     "output_type": "display_data"
    }
   ],
   "source": [
    "v1 = spy.sqrt(x1.diff(t)**2 + y1.diff(t)**2).subs(symbols_dict).simplify()\n",
    "v2 = spy.sqrt(x2.diff(t)**2 + y2.diff(t)**2).subs(symbols_dict).simplify()\n",
    "\n",
    "\n",
    "display(spy.Eq(spy.symbols('v1'), v1))\n",
    "display(spy.Eq(spy.symbols('v2'), v2))"
   ]
  },
  {
   "cell_type": "code",
   "execution_count": 5,
   "metadata": {
    "collapsed": false
   },
   "outputs": [
    {
     "data": {
      "image/png": "[encoded data removed]",
      "text/latex": [
       "$$T = \\frac{L_{1}^{2} m_{1}}{2} \\dot{\\theta_1}^{2}{\\left (t \\right )} + \\frac{m_{2}}{2} \\left(L_{1}^{2} \\dot{\\theta_1}^{2}{\\left (t \\right )} + 2 L_{1} L_{2} \\dot{\\theta_1}{\\left (t \\right )} \\dot{\\theta_2}{\\left (t \\right )} \\cos{\\left (\\theta_{1}{\\left (t \\right )} - \\theta_{2}{\\left (t \\right )} \\right )} + L_{2}^{2} \\dot{\\theta_2}^{2}{\\left (t \\right )}\\right)$$"
      ],
      "text/plain": [
       "      2                  2         ⎛  2               2                       \n",
       "    L₁ ⋅m₁⋅\\dot{\\theta_1} (t)   m₂⋅⎝L₁ ⋅\\dot{\\theta_1} (t) + 2⋅L₁⋅L₂⋅\\dot{\\the\n",
       "T = ───────────────────────── + ──────────────────────────────────────────────\n",
       "                2                                                             \n",
       "\n",
       "                                                            2               2 \n",
       "ta_1}(t)⋅\\dot{\\theta_2}(t)⋅cos(\\theta₁(t) - \\theta₂(t)) + L₂ ⋅\\dot{\\theta_2} (\n",
       "──────────────────────────────────────────────────────────────────────────────\n",
       "                 2                                                            \n",
       "\n",
       "  ⎞\n",
       "t)⎠\n",
       "───\n",
       "   "
      ]
     },
     "execution_count": 5,
     "metadata": {},
     "output_type": "execute_result"
    }
   ],
   "source": [
    "T = (m1*v1**2/2 + m2*v2**2/2).simplify()\n",
    "spy.Eq(spy.symbols('T'), T)"
   ]
  },
  {
   "cell_type": "markdown",
   "metadata": {},
   "source": [
    "La energía potencial corresponde entonces con: $V = V_1 + V_2 = m_1gy_1 + m_2gy_2$"
   ]
  },
  {
   "cell_type": "code",
   "execution_count": 6,
   "metadata": {
    "collapsed": false
   },
   "outputs": [
    {
     "data": {
      "image/png": "[encoded data removed]",
      "text/latex": [
       "$$V = - g \\left(L_{1} m_{1} \\cos{\\left (\\theta_{1}{\\left (t \\right )} \\right )} + L_{1} m_{2} \\cos{\\left (\\theta_{1}{\\left (t \\right )} \\right )} + L_{2} m_{2} \\cos{\\left (\\theta_{2}{\\left (t \\right )} \\right )}\\right)$$"
      ],
      "text/plain": [
       "V = -g⋅(L₁⋅m₁⋅cos(\\theta₁(t)) + L₁⋅m₂⋅cos(\\theta₁(t)) + L₂⋅m₂⋅cos(\\theta₂(t)))"
      ]
     },
     "execution_count": 6,
     "metadata": {},
     "output_type": "execute_result"
    }
   ],
   "source": [
    "V = (m1*g*y1 + m2*g*y2).simplify()\n",
    "spy.Eq(spy.symbols('V'), V)"
   ]
  },
  {
   "cell_type": "markdown",
   "metadata": {},
   "source": [
    "El lagrangiano $L$ es entonces:"
   ]
  },
  {
   "cell_type": "code",
   "execution_count": 7,
   "metadata": {
    "collapsed": false
   },
   "outputs": [
    {
     "data": {
      "image/png": "[encoded data removed]",
      "text/latex": [
       "$$L = \\frac{L_{1}^{2} m_{1}}{2} \\dot{\\theta_1}^{2}{\\left (t \\right )} + g \\left(L_{1} m_{1} \\cos{\\left (\\theta_{1}{\\left (t \\right )} \\right )} + L_{1} m_{2} \\cos{\\left (\\theta_{1}{\\left (t \\right )} \\right )} + L_{2} m_{2} \\cos{\\left (\\theta_{2}{\\left (t \\right )} \\right )}\\right) + \\frac{m_{2}}{2} \\left(L_{1}^{2} \\dot{\\theta_1}^{2}{\\left (t \\right )} + 2 L_{1} L_{2} \\dot{\\theta_1}{\\left (t \\right )} \\dot{\\theta_2}{\\left (t \\right )} \\cos{\\left (\\theta_{1}{\\left (t \\right )} - \\theta_{2}{\\left (t \\right )} \\right )} + L_{2}^{2} \\dot{\\theta_2}^{2}{\\left (t \\right )}\\right)$$"
      ],
      "text/plain": [
       "      2                  2                                                    \n",
       "    L₁ ⋅m₁⋅\\dot{\\theta_1} (t)                                                 \n",
       "L = ───────────────────────── + g⋅(L₁⋅m₁⋅cos(\\theta₁(t)) + L₁⋅m₂⋅cos(\\theta₁(t\n",
       "                2                                                             \n",
       "\n",
       "                                 ⎛  2               2                         \n",
       "                              m₂⋅⎝L₁ ⋅\\dot{\\theta_1} (t) + 2⋅L₁⋅L₂⋅\\dot{\\theta\n",
       ")) + L₂⋅m₂⋅cos(\\theta₂(t))) + ────────────────────────────────────────────────\n",
       "                                                                              \n",
       "\n",
       "                                                          2               2   \n",
       "_1}(t)⋅\\dot{\\theta_2}(t)⋅cos(\\theta₁(t) - \\theta₂(t)) + L₂ ⋅\\dot{\\theta_2} (t)\n",
       "──────────────────────────────────────────────────────────────────────────────\n",
       "               2                                                              \n",
       "\n",
       "⎞\n",
       "⎠\n",
       "─\n",
       " "
      ]
     },
     "execution_count": 7,
     "metadata": {},
     "output_type": "execute_result"
    }
   ],
   "source": [
    "L = (T - V).simplify()\n",
    "spy.Eq(spy.symbols('L'), L)"
   ]
  },
  {
   "cell_type": "markdown",
   "metadata": {},
   "source": [
    "La ecuación de Euler-Lagrange es:\n",
    "$$\n",
    "    \\dfrac{d}{dt}\\dfrac{dL}{d\\dot{q_i}} - \\dfrac{dL}{dq_i} = 0\n",
    "$$\n",
    "\n",
    "donde $p_i = \\dfrac{dL}{d\\dot{q_i}}$, corresponde con el momento generalizado"
   ]
  },
  {
   "cell_type": "code",
   "execution_count": 8,
   "metadata": {
    "collapsed": false
   },
   "outputs": [
    {
     "data": {
      "image/png": "[encoded data removed]",
      "text/latex": [
       "$$L_{1} \\left(L_{1} m_{1} \\ddot{\\theta_1}{\\left (t \\right )} + L_{1} m_{2} \\ddot{\\theta_1}{\\left (t \\right )} + L_{2} m_{2} \\ddot{\\theta_2}{\\left (t \\right )} \\cos{\\left (\\theta_{1}{\\left (t \\right )} - \\theta_{2}{\\left (t \\right )} \\right )} + L_{2} m_{2} \\dot{\\theta_2}^{2}{\\left (t \\right )} \\sin{\\left (\\theta_{1}{\\left (t \\right )} - \\theta_{2}{\\left (t \\right )} \\right )} + g m_{1} \\sin{\\left (\\theta_{1}{\\left (t \\right )} \\right )} + g m_{2} \\sin{\\left (\\theta_{1}{\\left (t \\right )} \\right )}\\right) = 0$$"
      ],
      "text/plain": [
       "   ⎛                                                                          \n",
       "L₁⋅⎝L₁⋅m₁⋅\\ddot{\\theta_1}(t) + L₁⋅m₂⋅\\ddot{\\theta_1}(t) + L₂⋅m₂⋅\\ddot{\\theta_2\n",
       "\n",
       "                                                        2                     \n",
       "}(t)⋅cos(\\theta₁(t) - \\theta₂(t)) + L₂⋅m₂⋅\\dot{\\theta_2} (t)⋅sin(\\theta₁(t) - \n",
       "\n",
       "                                                         ⎞    \n",
       "\\theta₂(t)) + g⋅m₁⋅sin(\\theta₁(t)) + g⋅m₂⋅sin(\\theta₁(t))⎠ = 0"
      ]
     },
     "metadata": {},
     "output_type": "display_data"
    },
    {
     "data": {
      "image/png": "[encoded data removed]",
      "text/latex": [
       "$$L_{2} m_{2} \\left(L_{1} \\ddot{\\theta_1}{\\left (t \\right )} \\cos{\\left (\\theta_{1}{\\left (t \\right )} - \\theta_{2}{\\left (t \\right )} \\right )} - L_{1} \\dot{\\theta_1}^{2}{\\left (t \\right )} \\sin{\\left (\\theta_{1}{\\left (t \\right )} - \\theta_{2}{\\left (t \\right )} \\right )} + L_{2} \\ddot{\\theta_2}{\\left (t \\right )} + g \\sin{\\left (\\theta_{2}{\\left (t \\right )} \\right )}\\right) = 0$$"
      ],
      "text/plain": [
       "      ⎛                                                                      2\n",
       "L₂⋅m₂⋅⎝L₁⋅\\ddot{\\theta_1}(t)⋅cos(\\theta₁(t) - \\theta₂(t)) - L₁⋅\\dot{\\theta_1} \n",
       "\n",
       "                                                                            ⎞ \n",
       "(t)⋅sin(\\theta₁(t) - \\theta₂(t)) + L₂⋅\\ddot{\\theta_2}(t) + g⋅sin(\\theta₂(t))⎠ \n",
       "\n",
       "   \n",
       "= 0"
      ]
     },
     "metadata": {},
     "output_type": "display_data"
    },
    {
     "data": {
      "image/png": "[encoded data removed]",
      "text/latex": [
       "$$p_{1} = L_{1}^{2} m_{1} \\dot{\\theta_1}{\\left (t \\right )} + \\frac{m_{2}}{2} \\left(2 L_{1}^{2} \\dot{\\theta_1}{\\left (t \\right )} + 2 L_{1} L_{2} \\dot{\\theta_2}{\\left (t \\right )} \\cos{\\left (\\theta_{1}{\\left (t \\right )} - \\theta_{2}{\\left (t \\right )} \\right )}\\right)$$"
      ],
      "text/plain": [
       "                                   ⎛    2                                     \n",
       "       2                        m₂⋅⎝2⋅L₁ ⋅\\dot{\\theta_1}(t) + 2⋅L₁⋅L₂⋅\\dot{\\th\n",
       "p₁ = L₁ ⋅m₁⋅\\dot{\\theta_1}(t) + ──────────────────────────────────────────────\n",
       "                                                                          2   \n",
       "\n",
       "                                      ⎞\n",
       "eta_2}(t)⋅cos(\\theta₁(t) - \\theta₂(t))⎠\n",
       "───────────────────────────────────────\n",
       "                                       "
      ]
     },
     "metadata": {},
     "output_type": "display_data"
    },
    {
     "data": {
      "image/png": "[encoded data removed]",
      "text/latex": [
       "$$p_{2} = \\frac{m_{2}}{2} \\left(2 L_{1} L_{2} \\dot{\\theta_1}{\\left (t \\right )} \\cos{\\left (\\theta_{1}{\\left (t \\right )} - \\theta_{2}{\\left (t \\right )} \\right )} + 2 L_{2}^{2} \\dot{\\theta_2}{\\left (t \\right )}\\right)$$"
      ],
      "text/plain": [
       "        ⎛                                                             2       \n",
       "     m₂⋅⎝2⋅L₁⋅L₂⋅\\dot{\\theta_1}(t)⋅cos(\\theta₁(t) - \\theta₂(t)) + 2⋅L₂ ⋅\\dot{\\\n",
       "p₂ = ─────────────────────────────────────────────────────────────────────────\n",
       "                                               2                              \n",
       "\n",
       "           ⎞\n",
       "theta_2}(t)⎠\n",
       "────────────\n",
       "            "
      ]
     },
     "metadata": {},
     "output_type": "display_data"
    }
   ],
   "source": [
    "p1 = L.diff(dtheta1)\n",
    "p2 = L.diff(dtheta2)\n",
    "\n",
    "Ltheta1 = (p1.diff(t) - L.diff(theta1)).subs(symbols_dict).simplify()\n",
    "Ltheta2 = (p2.diff(t) - L.diff(theta2)).subs(symbols_dict).simplify()\n",
    "\n",
    "eq1 = spy.Eq(Ltheta1, 0)\n",
    "eq2 = spy.Eq(Ltheta2, 0)\n",
    "\n",
    "display(eq1)\n",
    "display(eq2)\n",
    "\n",
    "display(spy.Eq(spy.symbols('p_1'), p1))\n",
    "display(spy.Eq(spy.symbols('p_2'), p2))"
   ]
  },
  {
   "cell_type": "markdown",
   "metadata": {},
   "source": [
    "Despejando las expresiones anteriores para $\\ddot{\\theta_1}$ y $\\ddot{\\theta_2}$:"
   ]
  },
  {
   "cell_type": "code",
   "execution_count": 9,
   "metadata": {
    "collapsed": false
   },
   "outputs": [
    {
     "data": {
      "image/png": "[encoded data removed]",
      "text/latex": [
       "$$\\ddot{\\theta_1}{\\left (t \\right )} = - \\frac{1}{L_{1} \\left(m_{1} + m_{2}\\right)} \\left(L_{2} m_{2} \\ddot{\\theta_2}{\\left (t \\right )} \\cos{\\left (\\theta_{1}{\\left (t \\right )} - \\theta_{2}{\\left (t \\right )} \\right )} + L_{2} m_{2} \\dot{\\theta_2}^{2}{\\left (t \\right )} \\sin{\\left (\\theta_{1}{\\left (t \\right )} - \\theta_{2}{\\left (t \\right )} \\right )} + g m_{1} \\sin{\\left (\\theta_{1}{\\left (t \\right )} \\right )} + g m_{2} \\sin{\\left (\\theta_{1}{\\left (t \\right )} \\right )}\\right)$$"
      ],
      "text/plain": [
       "                      ⎛                                                       \n",
       "                     -⎝L₂⋅m₂⋅\\ddot{\\theta_2}(t)⋅cos(\\theta₁(t) - \\theta₂(t)) +\n",
       "\\ddot{\\theta_1}(t) = ─────────────────────────────────────────────────────────\n",
       "                                                                              \n",
       "\n",
       "                     2                                                        \n",
       " L₂⋅m₂⋅\\dot{\\theta_2} (t)⋅sin(\\theta₁(t) - \\theta₂(t)) + g⋅m₁⋅sin(\\theta₁(t)) \n",
       "──────────────────────────────────────────────────────────────────────────────\n",
       "                 L₁⋅(m₁ + m₂)                                                 \n",
       "\n",
       "                      ⎞ \n",
       "+ g⋅m₂⋅sin(\\theta₁(t))⎠ \n",
       "────────────────────────\n",
       "                        "
      ]
     },
     "metadata": {},
     "output_type": "display_data"
    },
    {
     "data": {
      "image/png": "[encoded data removed]",
      "text/latex": [
       "$$\\ddot{\\theta_2}{\\left (t \\right )} = \\frac{1}{L_{2}} \\left(- L_{1} \\ddot{\\theta_1}{\\left (t \\right )} \\cos{\\left (\\theta_{1}{\\left (t \\right )} - \\theta_{2}{\\left (t \\right )} \\right )} + L_{1} \\dot{\\theta_1}^{2}{\\left (t \\right )} \\sin{\\left (\\theta_{1}{\\left (t \\right )} - \\theta_{2}{\\left (t \\right )} \\right )} - g \\sin{\\left (\\theta_{2}{\\left (t \\right )} \\right )}\\right)$$"
      ],
      "text/plain": [
       "                                                                              \n",
       "                     -L₁⋅\\ddot{\\theta_1}(t)⋅cos(\\theta₁(t) - \\theta₂(t)) + L₁⋅\n",
       "\\ddot{\\theta_2}(t) = ─────────────────────────────────────────────────────────\n",
       "                                                                              \n",
       "\n",
       "              2                                                    \n",
       "\\dot{\\theta_1} (t)⋅sin(\\theta₁(t) - \\theta₂(t)) - g⋅sin(\\theta₂(t))\n",
       "───────────────────────────────────────────────────────────────────\n",
       "    L₂                                                             "
      ]
     },
     "metadata": {},
     "output_type": "display_data"
    }
   ],
   "source": [
    "ddtheta1_ = spy.solve(eq1, ddtheta1)[0]\n",
    "ddtheta2_ = spy.solve(eq2, ddtheta2)[0]\n",
    "\n",
    "display(spy.Eq(ddtheta1, ddtheta1_))\n",
    "display(spy.Eq(ddtheta2, ddtheta2_))"
   ]
  },
  {
   "cell_type": "markdown",
   "metadata": {},
   "source": [
    "Las ecuaciones anteriores están acopladas: $\\ddot{\\theta_1} = \\ddot{\\theta_1}(\\ddot{\\theta_2})$, $\\ddot{\\theta_2} = \\ddot{\\theta_2}(\\ddot{\\theta_1})$"
   ]
  },
  {
   "cell_type": "code",
   "execution_count": 10,
   "metadata": {
    "collapsed": false
   },
   "outputs": [
    {
     "data": {
      "image/png": "[encoded data removed]",
      "text/latex": [
       "$$\\ddot{\\theta_1}{\\left (t \\right )} = \\frac{1}{L_{1} \\left(- m_{1} + m_{2} \\cos^{2}{\\left (\\theta_{1}{\\left (t \\right )} - \\theta_{2}{\\left (t \\right )} \\right )} - m_{2}\\right)} \\left(\\frac{L_{1} m_{2}}{2} \\dot{\\theta_1}^{2}{\\left (t \\right )} \\sin{\\left (2 \\theta_{1}{\\left (t \\right )} - 2 \\theta_{2}{\\left (t \\right )} \\right )} + L_{2} m_{2} \\dot{\\theta_2}^{2}{\\left (t \\right )} \\sin{\\left (\\theta_{1}{\\left (t \\right )} - \\theta_{2}{\\left (t \\right )} \\right )} + g m_{1} \\sin{\\left (\\theta_{1}{\\left (t \\right )} \\right )} + \\frac{g m_{2}}{2} \\sin{\\left (\\theta_{1}{\\left (t \\right )} - 2 \\theta_{2}{\\left (t \\right )} \\right )} + \\frac{g m_{2}}{2} \\sin{\\left (\\theta_{1}{\\left (t \\right )} \\right )}\\right)$$"
      ],
      "text/plain": [
       "                                         2                                    \n",
       "                     L₁⋅m₂⋅\\dot{\\theta_1} (t)⋅sin(2⋅\\theta₁(t) - 2⋅\\theta₂(t))\n",
       "                     ─────────────────────────────────────────────────────────\n",
       "                                                 2                            \n",
       "\\ddot{\\theta_1}(t) = ─────────────────────────────────────────────────────────\n",
       "                                                                              \n",
       "                                                                              \n",
       "\n",
       "                                                                              \n",
       "                       2                                                      \n",
       " + L₂⋅m₂⋅\\dot{\\theta_2} (t)⋅sin(\\theta₁(t) - \\theta₂(t)) + g⋅m₁⋅sin(\\theta₁(t)\n",
       "                                                                              \n",
       "──────────────────────────────────────────────────────────────────────────────\n",
       "                     ⎛            2                              ⎞            \n",
       "                  L₁⋅⎝-m₁ + m₂⋅cos (\\theta₁(t) - \\theta₂(t)) - m₂⎠            \n",
       "\n",
       "                                                              \n",
       "    g⋅m₂⋅sin(\\theta₁(t) - 2⋅\\theta₂(t))   g⋅m₂⋅sin(\\theta₁(t))\n",
       ") + ─────────────────────────────────── + ────────────────────\n",
       "                     2                             2          \n",
       "──────────────────────────────────────────────────────────────\n",
       "                                                              \n",
       "                                                              "
      ]
     },
     "metadata": {},
     "output_type": "display_data"
    },
    {
     "data": {
      "image/png": "[encoded data removed]",
      "text/latex": [
       "$$\\ddot{\\theta_2}{\\left (t \\right )} = \\frac{1}{2 L_{2} \\left(m_{1} - m_{2} \\cos^{2}{\\left (\\theta_{1}{\\left (t \\right )} - \\theta_{2}{\\left (t \\right )} \\right )} + m_{2}\\right)} \\left(2 L_{1} m_{1} \\dot{\\theta_1}^{2}{\\left (t \\right )} \\sin{\\left (\\theta_{1}{\\left (t \\right )} - \\theta_{2}{\\left (t \\right )} \\right )} + 2 L_{1} m_{2} \\dot{\\theta_1}^{2}{\\left (t \\right )} \\sin{\\left (\\theta_{1}{\\left (t \\right )} - \\theta_{2}{\\left (t \\right )} \\right )} + L_{2} m_{2} \\dot{\\theta_2}^{2}{\\left (t \\right )} \\sin{\\left (2 \\theta_{1}{\\left (t \\right )} - 2 \\theta_{2}{\\left (t \\right )} \\right )} + g m_{1} \\sin{\\left (2 \\theta_{1}{\\left (t \\right )} - \\theta_{2}{\\left (t \\right )} \\right )} - g m_{1} \\sin{\\left (\\theta_{2}{\\left (t \\right )} \\right )} + g m_{2} \\sin{\\left (2 \\theta_{1}{\\left (t \\right )} - \\theta_{2}{\\left (t \\right )} \\right )} - g m_{2} \\sin{\\left (\\theta_{2}{\\left (t \\right )} \\right )}\\right)$$"
      ],
      "text/plain": [
       "                                           2                                  \n",
       "                     2⋅L₁⋅m₁⋅\\dot{\\theta_1} (t)⋅sin(\\theta₁(t) - \\theta₂(t)) +\n",
       "\\ddot{\\theta_2}(t) = ─────────────────────────────────────────────────────────\n",
       "                                                                              \n",
       "                                                                              \n",
       "\n",
       "                       2                                                      \n",
       " 2⋅L₁⋅m₂⋅\\dot{\\theta_1} (t)⋅sin(\\theta₁(t) - \\theta₂(t)) + L₂⋅m₂⋅\\dot{\\theta_2\n",
       "──────────────────────────────────────────────────────────────────────────────\n",
       "                                                                       ⎛      \n",
       "                                                                  2⋅L₂⋅⎝m₁ - m\n",
       "\n",
       " 2                                                                            \n",
       "} (t)⋅sin(2⋅\\theta₁(t) - 2⋅\\theta₂(t)) + g⋅m₁⋅sin(2⋅\\theta₁(t) - \\theta₂(t)) -\n",
       "──────────────────────────────────────────────────────────────────────────────\n",
       "     2                              ⎞                                         \n",
       "₂⋅cos (\\theta₁(t) - \\theta₂(t)) + m₂⎠                                         \n",
       "\n",
       "                                                                              \n",
       " g⋅m₁⋅sin(\\theta₂(t)) + g⋅m₂⋅sin(2⋅\\theta₁(t) - \\theta₂(t)) - g⋅m₂⋅sin(\\theta₂\n",
       "──────────────────────────────────────────────────────────────────────────────\n",
       "                                                                              \n",
       "                                                                              \n",
       "\n",
       "    \n",
       "(t))\n",
       "────\n",
       "    \n",
       "    "
      ]
     },
     "metadata": {},
     "output_type": "display_data"
    }
   ],
   "source": [
    "ddtheta1__ = ddtheta1_.subs({ddtheta2: ddtheta2_})\n",
    "ddtheta2__ = ddtheta2_.subs({ddtheta1: ddtheta1_})\n",
    "\n",
    "ddtheta1__ = spy.solve(spy.Eq(ddtheta1__, ddtheta1), ddtheta1)[0].simplify()\n",
    "ddtheta2__ = spy.solve(spy.Eq(ddtheta2__, ddtheta2), ddtheta2)[0].simplify()\n",
    "\n",
    "display(spy.Eq(ddtheta1, ddtheta1__))\n",
    "display(spy.Eq(ddtheta2, ddtheta2__))"
   ]
  },
  {
   "cell_type": "markdown",
   "metadata": {},
   "source": [
    "# Soluciones"
   ]
  },
  {
   "cell_type": "code",
   "execution_count": 11,
   "metadata": {
    "collapsed": false
   },
   "outputs": [],
   "source": [
    "def derivs(state, t):\n",
    "    #dydx [dtheta1, ddtheta1, dtheta2, ddtheta2] \n",
    "    #state [theta1, dtheta1, theta2, dtheta2]\n",
    "\n",
    "    dydx = np.zeros_like(state)\n",
    "    \n",
    "    theta1, dtheta1, theta2, dtheta2 = state\n",
    "    dydx[0] = dtheta1\n",
    "\n",
    "    theta_diff = theta1 - theta2\n",
    "    den1 = L1*(m2*cos(theta_diff)**2 - m1 - m2)\n",
    "    \n",
    "    dydx[1] = 0.5*L1*m2*dtheta1**2*sin(2*theta_diff) + \\\n",
    "               L2*m2*dtheta2**2*sin(theta_diff) + \\\n",
    "               G*m1*sin(theta1) + 0.5*G*m2*sin(theta1 - 2*theta2) + 0.5*G*m2*sin(theta1)\n",
    "            \n",
    "    dydx[1] *= 1./den1 \n",
    "\n",
    "    dydx[2] = dtheta2\n",
    "\n",
    "    den2 = 2*L2*(m1 + m2 - m2*cos(theta_diff)**2)\n",
    "    dydx[3] = 2*L1*m1*dtheta1**2*sin(theta_diff) + 2*L1*m2*dtheta1**2*sin(theta_diff) \\\n",
    "            + L2*m2*dtheta2**2*sin(2*theta_diff) + G*m1*sin(2*theta1 - theta2) - G*m1*sin(theta2)\\\n",
    "            + G*m2*sin(2*theta1 - theta2) - G*m2*sin(theta2)\n",
    "            \n",
    "    dydx[3] *= 1./den2\n",
    "\n",
    "    return dydx"
   ]
  },
  {
   "cell_type": "markdown",
   "metadata": {},
   "source": [
    "# Condiciones iniciales"
   ]
  },
  {
   "cell_type": "code",
   "execution_count": 12,
   "metadata": {
    "collapsed": true
   },
   "outputs": [],
   "source": [
    "L1 = 1.0  # length of pendulum 1 in m\n",
    "L2 = 1.0  # length of pendulum 2 in m\n",
    "m1 = 1.0  # mass of pendulum 1 in kg\n",
    "m2 = 1.0  # mass of pendulum 2 in kg\n",
    "\n",
    "# th1 and th2 are the initial angles (degrees)\n",
    "# w10 and w20 are the initial angular velocities (degrees per second)\n",
    "th1 = 120.0\n",
    "w1 = 0.0\n",
    "th2 = 120.0\n",
    "w2 = 0.0\n",
    "\n",
    "# initial state\n",
    "state = np.radians([th1, w1, th2, w2])"
   ]
  },
  {
   "cell_type": "markdown",
   "metadata": {},
   "source": [
    "# Gráficas"
   ]
  },
  {
   "cell_type": "code",
   "execution_count": 14,
   "metadata": {
    "collapsed": false
   },
   "outputs": [],
   "source": [
    "# create a time array from 0..100 sampled at 0.05 second steps\n",
    "dt = 0.05\n",
    "t = np.arange(0.0, 20, dt)\n",
    "\n",
    "# integrate your ODE using scipy.integrate.\n",
    "y = integrate.odeint(derivs, state, t)\n",
    "\n",
    "theta1, dtheta1, theta2, dtheta2 = y.T\n",
    "\n",
    "x1 = L1*sin(theta1)\n",
    "y1 = -L1*cos(theta1)\n",
    "\n",
    "x2 = L2*sin(theta2) + x1\n",
    "y2 = -L2*cos(theta2) + y1\n",
    "\n",
    "L = abs(L1) + abs(L2)\n",
    "\n",
    "fig, ax1 = plt.subplots()\n",
    "ax1.grid()\n",
    "\n",
    "line, = ax1.plot([], [], 'o-', lw=2)\n",
    "time_template = 'time = %.1fs'\n",
    "time_text = ax1.text(0.05, 0.9, '', transform=ax1.transAxes)\n",
    "\n",
    "trajectory, = ax1.plot([], [], alpha = 0.1, c = 'b')\n",
    "\n",
    "def init():\n",
    "    line.set_data([], [])\n",
    "    time_text.set_text('')\n",
    "    return line, time_text\n",
    "\n",
    "def animate(i):\n",
    "    thisx = [0, x1[i], x2[i]]\n",
    "    thisy = [0, y1[i], y2[i]]\n",
    "\n",
    "    line.set_data(thisx, thisy)\n",
    "    trajectory.set_data(x2[:i], y2[:i])\n",
    "    time_text.set_text(time_template % (i*dt))\n",
    "    return line, trajectory, time_text\n",
    "\n",
    "ax1.set_xlim(-L, L)\n",
    "ax1.set_ylim(-L, L)\n",
    "ax1.set_xlabel(\"$x$ (m)\")\n",
    "ax1.set_ylabel(\"$y$ (m)\")\n",
    "ani = animation.FuncAnimation(fig, animate, np.arange(1, len(y)),\n",
    "                              interval=25, blit=True, init_func=init)\n",
    "\n",
    "# ani.save(\"DoublePendulum.gif\", writer=\"imagemagick\")\n",
    "plt.show()"
   ]
  }
 ],
 "metadata": {
  "anaconda-cloud": {},
  "kernelspec": {
   "display_name": "Python 3",
   "language": "python",
   "name": "python3"
  },
  "language_info": {
   "codemirror_mode": {
    "name": "ipython",
    "version": 3
   },
   "file_extension": ".py",
   "mimetype": "text/x-python",
   "name": "python",
   "nbconvert_exporter": "python",
   "pygments_lexer": "ipython3",
   "version": "3.4.5"
  }
 },
 "nbformat": 4,
 "nbformat_minor": 0
}
