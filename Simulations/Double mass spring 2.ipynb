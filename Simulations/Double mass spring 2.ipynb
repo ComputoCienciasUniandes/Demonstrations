{
 "cells": [
  {
   "cell_type": "code",
   "execution_count": 1,
   "metadata": {
    "collapsed": false
   },
   "outputs": [],
   "source": [
    "from numpy import sin, cos\n",
    "import numpy as np\n",
    "import matplotlib.pyplot as plt\n",
    "import scipy.integrate as integrate\n",
    "import matplotlib.animation as animation"
   ]
  },
  {
   "cell_type": "code",
   "execution_count": 10,
   "metadata": {
    "collapsed": false
   },
   "outputs": [],
   "source": [
    "G = 9.8  # acceleration due to gravity, in m/s^2\n",
    "K1 = 10.0 # spring constant\n",
    "L1 = 1.0  # length of pendulum 1 in m\n",
    "M1 = 1.0  # mass of pendulum 1 in kg\n",
    "K2 = 10\n",
    "L2 = 1.0\n",
    "M2 = 1.0\n",
    "L3 = 1.0\n",
    "K3 = 10\n",
    "a1=K1/M1\n",
    "a2=K2/M2\n",
    "L = 3\n",
    "\n",
    "X1 = 1.5\n",
    "Vx1 = 0\n",
    "Y1 = 0\n",
    "Vy1 = 0\n",
    "X2 = 2.5\n",
    "Vx2 = 0\n",
    "Y2 = 0\n",
    "Vy2 = 0\n",
    "# initial state\n",
    "state = [X1, Vx1, ,X2, Vx2]"
   ]
  },
  {
   "cell_type": "code",
   "execution_count": 11,
   "metadata": {
    "collapsed": false
   },
   "outputs": [],
   "source": [
    "def derivs(state, t):\n",
    "    dydx = np.zeros_like(state)\n",
    "    xtemp1, vx1, xtemp2, vx2 = state\n",
    "    alpha = L - (xtemp1 + xtemp2)\n",
    "    dydx[0] = vx1\n",
    "    dydx[1] = a1*(L1-xtemp1)-K2/M1*(L2-xtemp2+xtemp1)\n",
    "    dydx[2] = vx2\n",
    "    dydx[3] = -a2*(xtemp2-xtemp1-L2)+(K3/M2)*(L-xtemp2-L3)\n",
    "    return dydx\n",
    "\n",
    "# create a time array from 0..100 sampled at 0.05 second steps\n",
    "dt = 0.05\n",
    "t = np.arange(0.0, 20, dt)\n",
    "\n",
    "# integrate your ODE using scipy.integrate.\n",
    "y = integrate.odeint(derivs, state, t)\n",
    "x1 = y[:, 0]\n",
    "x2 = y[:, 2]\n",
    "y1 = np.zeros_like(x1)\n",
    "y2 = np.zeros_like(x2)\n",
    "fig = plt.figure()\n",
    "ax = fig.add_subplot(111, autoscale_on=False, xlim=(-1, 4), ylim=(-3, 3))\n",
    "ax.grid()\n",
    "\n",
    "line, = ax.plot([], [], 'o-', lw=2)\n",
    "line2, = ax.plot([], [], 'o-', lw=2, color=\"black\")\n",
    "time_template = 'time = %.1fs'\n",
    "time_text = ax.text(0.05, 0.9, '', transform=ax.transAxes)\n",
    "\n",
    "def init():\n",
    "    line.set_data([], [])\n",
    "    time_text.set_text('')\n",
    "    return line, time_text\n",
    "\n",
    "\n",
    "def animate(i):\n",
    "    thisx = [x1[i], x2[i]]\n",
    "    thisy = [y1[i], y2[i]]\n",
    "    color = [\"black\", \"blue\", \"blue\", \"black\"]\n",
    "\n",
    "    line.set_data(thisx, thisy)\n",
    "    line2.set_data([0,L], [0,0])\n",
    "    time_text.set_text(time_template % (i*dt))\n",
    "    return line2, line,time_text\n",
    "\n",
    "ani = animation.FuncAnimation(fig, animate, np.arange(1, len(y)),\n",
    "                              interval=25, blit=True, init_func=init)\n",
    "#ani.save(\"pic.mp4\")\n",
    "plt.show()"
   ]
  },
  {
   "cell_type": "code",
   "execution_count": 34,
   "metadata": {
    "collapsed": false
   },
   "outputs": [],
   "source": [
    "plt.plot(y[:, 0], y[:,1])\n",
    "plt.show()"
   ]
  },
  {
   "cell_type": "code",
   "execution_count": null,
   "metadata": {
    "collapsed": true
   },
   "outputs": [],
   "source": []
  }
 ],
 "metadata": {
  "kernelspec": {
   "display_name": "Python 2",
   "language": "python",
   "name": "python2"
  },
  "language_info": {
   "codemirror_mode": {
    "name": "ipython",
    "version": 2
   },
   "file_extension": ".py",
   "mimetype": "text/x-python",
   "name": "python",
   "nbconvert_exporter": "python",
   "pygments_lexer": "ipython2",
   "version": "2.7.11"
  }
 },
 "nbformat": 4,
 "nbformat_minor": 0
}
