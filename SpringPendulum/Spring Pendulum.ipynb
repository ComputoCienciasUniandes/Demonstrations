{
 "cells": [
  {
   "cell_type": "markdown",
   "metadata": {},
   "source": [
    "<div>\n",
    "    <center>\n",
    "    <h1> Spring Pendulum </h1>\n",
    "    <br>\n",
    "    by <a href=\"http://github.com/ComputoCienciasUniandes\"> ComputoCienciasUniandes </a>\n",
    "    <br>\n",
    "    <a href=\"http://github.com/jsbarbosa\"> Juan Barbosa </a>,\n",
    "    <a href=\"http://github.com/jsbarbosa\"> Luisa Rodriguez </a>\n",
    "    </center>\n",
    "</div>\n",
    "<hr style=\"height:5px\">"
   ]
  },
  {
   "cell_type": "markdown",
   "metadata": {},
   "source": [
    "# Librerías"
   ]
  },
  {
   "cell_type": "code",
   "execution_count": 1,
   "metadata": {
    "collapsed": false
   },
   "outputs": [
    {
     "name": "stdout",
     "output_type": "stream",
     "text": [
      "Using matplotlib backend: TkAgg\n"
     ]
    }
   ],
   "source": [
    "from numpy import sin, cos\n",
    "import numpy as np\n",
    "import matplotlib.pyplot as plt\n",
    "import scipy.integrate as integrate\n",
    "import matplotlib.animation as animation\n",
    "\n",
    "%matplotlib"
   ]
  },
  {
   "cell_type": "markdown",
   "metadata": {},
   "source": [
    "# Sistema"
   ]
  },
  {
   "cell_type": "markdown",
   "metadata": {},
   "source": [
    "<img src=\"spring.jpg\">\n",
    "\n",
    "El sistema que vamos a analizar se muestra en la Figura anterior, donde $l$ es la longitud natural del resorte y $r$ lo que se enlonga.\n",
    "\n",
    "El Lagrangiano del sistema es:\n",
    "\n",
    "\\begin{equation}\n",
    "L = T-V = \\left(\\frac{1}{2}m(\\dot r^2 + (l+r)^2\\dot\\theta^2)\\right) - \\left(-mg\\cos(l+r)\\cos\\theta + \\frac{1}{2}kr^2\\right)\n",
    "\\end{equation}\n",
    "\n",
    "De donde se deducen las siguientes ecuaciones de movimiento:\n",
    "$$\n",
    "    \\dfrac{d}{dt}\\dfrac{\\partial L}{\\partial \\dot{q}} - \\dfrac{\\partial L}{\\partial q} = 0\n",
    "$$\n",
    "\n",
    "$$\n",
    "    \\ddot r = (l+r)\\dot\\theta^2 + g\\cos\\theta - \\omega^2 r \\qquad \\text{donde $\\omega^2 = k/m$} \n",
    "$$\n",
    "\n",
    "$$\n",
    "    \\ddot \\theta = - \\dfrac{1}{l+r}\\left(2\\dot{r}\\dot{\\theta} + g\\sin\\theta\\right)\n",
    "$$\n"
   ]
  },
  {
   "cell_type": "markdown",
   "metadata": {},
   "source": [
    "# Constantes\n",
    "\n",
    "Definimos las constantes a usar."
   ]
  },
  {
   "cell_type": "code",
   "execution_count": 2,
   "metadata": {
    "collapsed": true
   },
   "outputs": [],
   "source": [
    "G = 9.8  # acceleration due to gravity, in m/s^2\n",
    "K = 100 # spring constant\n",
    "L = 1.0  # length of pendulum 1 in m\n",
    "M = 1.0  # mass of pendulum 1 in kg\n",
    "W2 = K/M"
   ]
  },
  {
   "cell_type": "markdown",
   "metadata": {},
   "source": [
    "# Condiciones iniciales"
   ]
  },
  {
   "cell_type": "code",
   "execution_count": 3,
   "metadata": {
    "collapsed": true
   },
   "outputs": [],
   "source": [
    "r0 = 0.5*L\n",
    "vr0 = 0\n",
    "theta0 = 45\n",
    "vtheta0 = 0\n",
    "\n",
    "# initial state\n",
    "state = [r0, vr0, np.deg2rad(theta0), np.deg2rad(vtheta0)]"
   ]
  },
  {
   "cell_type": "markdown",
   "metadata": {},
   "source": [
    "# Soluciones"
   ]
  },
  {
   "cell_type": "code",
   "execution_count": 4,
   "metadata": {
    "collapsed": false
   },
   "outputs": [],
   "source": [
    "def derivs(state, t):\n",
    "    dydx = np.zeros_like(state)\n",
    "    r_, vr_, theta_, vtheta_ = state\n",
    "    dydx[0] = vr_\n",
    "    dydx[1] = (L + r_)*vtheta_**2 + G*np.cos(theta_) - W2*r_\n",
    "    dydx[2] = vtheta_\n",
    "    dydx[3] = -(2*vr_*vtheta_ + G*np.sin(theta_))/(r_ + L)\n",
    "    return dydx\n",
    "\n",
    "dt = 0.025\n",
    "t = np.arange(0.0, 20.0, dt)\n",
    "\n",
    "# integrate your ODE using scipy.integrate.\n",
    "y = integrate.odeint(derivs, state, t)\n",
    "r = L + y[:, 0] \n",
    "x1 = r*np.sin(y[:, 2])\n",
    "y1 = -r*np.cos(y[:, 2])\n",
    "\n",
    "fig = plt.figure()\n",
    "rmax = np.ceil(max(abs(r)))\n",
    "ax = fig.add_subplot(111, autoscale_on = False, xlim = (-rmax, rmax), ylim = (-rmax, rmax))\n",
    "ax.grid()\n",
    "\n",
    "line, = ax.plot([], [], 'o-', lw = 2)\n",
    "story, = ax.plot([], [], alpha = 0.5)\n",
    "time_template = 'time = %.1fs'\n",
    "time_text = ax.text(0.05, 0.9, '', transform=ax.transAxes)\n",
    "\n",
    "ax.set_xlabel(\"$x$ (m)\")\n",
    "ax.set_ylabel(\"$y$ (m)\")\n",
    "\n",
    "def init():\n",
    "    line.set_data([], [])\n",
    "    story.set_data([], [])\n",
    "    time_text.set_text('')\n",
    "    return line, time_text\n",
    "\n",
    "def animate(i):\n",
    "    thisx = [0, x1[i]]\n",
    "    thisy = [0, y1[i]]\n",
    "    story.set_data(x1[:i], y1[:i])\n",
    "\n",
    "    line.set_data(thisx, thisy)\n",
    "    time_text.set_text(time_template % (i*dt))\n",
    "    return line, story, time_text\n",
    "\n",
    "ani = animation.FuncAnimation(fig, animate, np.arange(1, len(y)),\n",
    "                              interval = 25, blit = True, init_func=init)\n",
    "\n",
    "# ani.save(\"springPendulum.gif\", writer = \"imagemagick\", dpi = 70)\n",
    "plt.show()"
   ]
  },
  {
   "cell_type": "code",
   "execution_count": null,
   "metadata": {
    "collapsed": true
   },
   "outputs": [],
   "source": []
  }
 ],
 "metadata": {
  "kernelspec": {
   "display_name": "Python 3",
   "language": "python",
   "name": "python3"
  },
  "language_info": {
   "codemirror_mode": {
    "name": "ipython",
    "version": 3
   },
   "file_extension": ".py",
   "mimetype": "text/x-python",
   "name": "python",
   "nbconvert_exporter": "python",
   "pygments_lexer": "ipython3",
   "version": "3.4.5"
  }
 },
 "nbformat": 4,
 "nbformat_minor": 2
}
