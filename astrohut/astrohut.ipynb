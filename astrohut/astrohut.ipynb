{
 "cells": [
  {
   "cell_type": "markdown",
   "metadata": {},
   "source": [
    "<div>\n",
    "    <center>\n",
    "    <h1> astrohut: Ejemplos </h1>\n",
    "    <br>\n",
    "    by <a href=\"http://github.com/ComputoCienciasUniandes\"> ComputoCienciasUniandes </a>\n",
    "    <br>\n",
    "    <a href=\"http://github.com/jsbarbosa\"> Juan Barbosa </a>\n",
    "    </center>\n",
    "</div>\n",
    "<hr style=\"height:5px\">\n",
    "\n",
    "astrohut is a NBody gravity simulator that aims to help students understand many body systems, as well as motivating the use of computational tools to solve physical problems. Written in Python, with the core functions in C.\n",
    "\n",
    "https://jsbarbosa.github.io/astrohut/"
   ]
  },
  {
   "cell_type": "markdown",
   "metadata": {},
   "source": [
    "# Librerías"
   ]
  },
  {
   "cell_type": "code",
   "execution_count": 1,
   "metadata": {
    "collapsed": false
   },
   "outputs": [
    {
     "name": "stdout",
     "output_type": "stream",
     "text": [
      "Using matplotlib backend: TkAgg\n"
     ]
    }
   ],
   "source": [
    "import numpy as np\n",
    "import astrohut as ah\n",
    "import matplotlib.pyplot as plt\n",
    "from mpl_toolkits.mplot3d import Axes3D\n",
    "\n",
    "%matplotlib"
   ]
  },
  {
   "cell_type": "markdown",
   "metadata": {},
   "source": [
    "# random2d"
   ]
  },
  {
   "cell_type": "code",
   "execution_count": 2,
   "metadata": {
    "collapsed": false
   },
   "outputs": [],
   "source": [
    "G = 1.0\n",
    "m = 1.0\n",
    "\n",
    "pos = np.random.normal(size=(100, 2))\n",
    "\n",
    "speeds = ah.generateSpeeds(pos, G, m)\n",
    "system = ah.createArray(pos, speeds)\n",
    "\n",
    "sim = ah.Simulation(system, dim = 2, dt = 1e-4, G = G, mass_unit = m)\n",
    "\n",
    "sim.start(1000, save_to_array_every = 25)\n",
    "\n",
    "# if boxes are wanted: boxed = True, else: boxed = False\n",
    "ani = sim.makeAnimation(boxed = True)\n",
    "\n",
    "# ani.save(\"random2d.gif\", writer=\"imagemagick\", dpi = 72, fps = 12)\n",
    "plt.show()"
   ]
  },
  {
   "cell_type": "markdown",
   "metadata": {
    "collapsed": true
   },
   "source": [
    "# random3d"
   ]
  },
  {
   "cell_type": "code",
   "execution_count": 3,
   "metadata": {
    "collapsed": true
   },
   "outputs": [],
   "source": [
    "G = 1.0\n",
    "m = 1.0\n",
    "\n",
    "pos = np.random.normal(size=(25, 3))\n",
    "speeds = ah.generateSpeeds(pos, G, m)\n",
    "\n",
    "system = ah.createArray(pos, speeds)\n",
    "\n",
    "sim = ah.Simulation(system, dim = 3, dt = 1e-3, G = G, mass_unit = m)\n",
    "\n",
    "sim.start(1000, save_to_array_every = 25)\n",
    "\n",
    "# if boxes are wanted: boxed = True, else: boxed = False\n",
    "ani = sim.makeAnimation(boxed = True)\n",
    "\n",
    "# ani.save(\"random3d.gif\", writer=\"imagemagick\", dpi = 72, fps = 12)\n",
    "plt.show()"
   ]
  },
  {
   "cell_type": "markdown",
   "metadata": {},
   "source": [
    "# collision3d"
   ]
  },
  {
   "cell_type": "code",
   "execution_count": 4,
   "metadata": {
    "collapsed": false
   },
   "outputs": [
    {
     "name": "stdout",
     "output_type": "stream",
     "text": [
      "Array 1/41\n",
      "Array 2/41\n",
      "Array 3/41\n",
      "Array 4/41\n",
      "Array 5/41\n",
      "Array 6/41\n",
      "Array 7/41\n",
      "Array 8/41\n",
      "Array 9/41\n",
      "Array 10/41\n",
      "Array 11/41\n",
      "Array 12/41\n",
      "Array 13/41\n",
      "Array 14/41\n",
      "Array 15/41\n",
      "Array 16/41\n",
      "Array 17/41\n",
      "Array 18/41\n",
      "Array 19/41\n",
      "Array 20/41\n",
      "Array 21/41\n",
      "Array 22/41\n",
      "Array 23/41\n",
      "Array 24/41\n",
      "Array 25/41\n",
      "Array 26/41\n",
      "Array 27/41\n",
      "Array 28/41\n",
      "Array 29/41\n",
      "Array 30/41\n",
      "Array 31/41\n",
      "Array 32/41\n",
      "Array 33/41\n",
      "Array 34/41\n",
      "Array 35/41\n",
      "Array 36/41\n",
      "Array 37/41\n",
      "Array 38/41\n",
      "Array 39/41\n",
      "Array 40/41\n",
      "Array 41/41\n"
     ]
    }
   ],
   "source": [
    "G = 1.0\n",
    "m = 1.0\n",
    "N = 50\n",
    "\n",
    "pos1 = np.zeros((N, 3))\n",
    "pos2 = np.zeros_like(pos1)\n",
    "\n",
    "pos1[:, :2] = np.random.normal(size = (N, 2))\n",
    "\n",
    "pos2[:, :2] = np.random.normal(loc = 3.0, size = (N, 2))\n",
    "pos2[:, 2] = 5.0\n",
    "\n",
    "speeds1 = ah.generateSpeeds(pos1, G, m)\n",
    "speeds2 = ah.generateSpeeds(pos2, G, m)\n",
    "\n",
    "pos = np.vstack((pos1, pos2))\n",
    "speeds = np.vstack((speeds1, speeds2))\n",
    "\n",
    "system = ah.createArray(pos, speeds)\n",
    "\n",
    "sim = ah.Simulation(system, dim = 3, dt = 1e-3, G = G, mass_unit = m, epsilon = 1e-2)\n",
    "\n",
    "sim.start(5000, save_to_array_every = 125, print_progress = True)\n",
    "\n",
    "# if boxes are wanted: boxed = True\n",
    "ani = sim.makeAnimation()\n",
    "\n",
    "sim.ax.set_xlim(-3, 5)\n",
    "sim.ax.set_ylim(-3, 5)\n",
    "\n",
    "# ani.save(\"collision3d.gif\", writer=\"imagemagick\", dpi = 72, fps = 12)\n",
    "plt.show()"
   ]
  }
 ],
 "metadata": {
  "kernelspec": {
   "display_name": "Python 3",
   "language": "python",
   "name": "python3"
  },
  "language_info": {
   "codemirror_mode": {
    "name": "ipython",
    "version": 3
   },
   "file_extension": ".py",
   "mimetype": "text/x-python",
   "name": "python",
   "nbconvert_exporter": "python",
   "pygments_lexer": "ipython3",
   "version": "3.4.5"
  }
 },
 "nbformat": 4,
 "nbformat_minor": 2
}
