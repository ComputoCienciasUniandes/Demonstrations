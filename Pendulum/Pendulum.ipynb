{
 "cells": [
  {
   "cell_type": "markdown",
   "metadata": {},
   "source": [
    "<div>\n",
    "    <p style=\"float: left;\"> <img src=\"uniandeslogo.jpg\" width=\"220px\" border=\"1px\"> </p>\n",
    "    <center>\n",
    "    <h1> Pendulum </h1>\n",
    "    <br>\n",
    "    by <a href=\"http://github.com/ComputoCienciasUniandes\"> ComputoCienciasUniandes </a>\n",
    "    </center>\n",
    "</div>\n",
    "<hr style=\"height:5px\">"
   ]
  },
  {
   "cell_type": "markdown",
   "metadata": {},
   "source": [
    "# Librerías"
   ]
  },
  {
   "cell_type": "code",
   "execution_count": 1,
   "metadata": {
    "collapsed": false
   },
   "outputs": [],
   "source": [
    "import numpy as np\n",
    "from numpy import sin, cos\n",
    "\n",
    "from scipy.constants import g\n",
    "import scipy.integrate as integrate\n",
    "\n",
    "import matplotlib.pyplot as plt\n",
    "import matplotlib.gridspec as gridspec\n",
    "import matplotlib.animation as animation\n",
    "from matplotlib.widgets import Slider"
   ]
  },
  {
   "cell_type": "markdown",
   "metadata": {},
   "source": [
    "# Sistema\n",
    "\n",
    "<img src = \"Pendulum.jpg\" width=400>\n",
    "Para un péndulo símple, en coordenadas cilíndricas:\n",
    "$$ F_{\\text{tan}} = ma = -mg\\sin\\theta $$\n",
    "$$ a = \\ddot{s} = -g\\sin\\theta $$\n",
    "\n",
    "donde $\\ddot{s}$ corresponde con la aceleración en la dirección del desplazamiento $s$. Dado que el desplazamiento tiene una longitud de arco $s(L, \\theta) = L\\theta$, sus derivadas se obtienen con la regla de la cadena.\n",
    "$$\n",
    "\\frac{ds}{dt} = \\frac{ds}{dL}\\frac{dL}{dt} + \\frac{ds}{d\\theta}\\frac{d\\theta}{dt}\n",
    "$$\n",
    "\n",
    "Teniendo en cuenta que la longitud de la cuerda no varía en el tiempo:\n",
    "$$\n",
    "\\begin{matrix}\n",
    "\\frac{ds}{dt} = \\frac{ds}{d\\theta}\\frac{d\\theta}{dt} = L\\dot{\\theta} \\\\\n",
    "\\frac{d^2s}{dt^2} = \\ddot{s} = L\\ddot{\\theta}\n",
    "\\end{matrix}\n",
    "$$\n",
    "\n",
    "Aplicando en la ecuación de la aceleración y haciendo explícita la expresión para la aceleración angular:\n",
    "$$ L\\ddot{\\theta} = -g\\sin\\theta $$\n",
    "\n",
    "$$ \\ddot{\\theta} = -\\frac{g}{L}\\sin\\theta $$\n",
    "\n",
    "La ecuación anterior no presenta una solución analítica, sin embargo es posible asumir que para ángulos pequeños $\\sin\\theta \\approx \\theta$ con lo cual se obtiene una ecuación diferencial ordinaria de segundo orden con coeficientes constantes.\n",
    "$$ \\ddot{\\theta} \\approx -\\frac{g}{L}\\theta $$\n",
    "\n",
    "Las raíces del polinómio característico corresponden con $\\pm i \\omega$, donde $\\omega^2 = g/L$, con lo cual se obtiene como solución a la ecuación diferencial:\n",
    "$$ \\theta(t) = A\\cos(\\omega t) + B\\sin(\\omega t) $$\n",
    "\n",
    "Donde $A$ y $B$ se determinan usando las condiciones iniciales.\n",
    "$$ \\dot{\\theta}(t = 0 ) = \\dot{\\theta}_0 =\\omega\\left(-A\\sin(\\omega t) + B\\cos(\\omega t)\\right) = \\omega B$$\n",
    "$$ \\theta(t = 0) = \\theta_0 = A\\cos(\\omega t) + \\frac{\\dot{\\theta}_0}{\\omega} \\sin(\\omega t) = A$$\n",
    "\n",
    "La expresión final es entonces:\n",
    "$$ \\theta(t) = \\theta_0\\cos(\\omega t) + \\frac{\\dot{\\theta}_0}{\\omega} \\sin(\\omega t) $$\n",
    "\n",
    "Para graficar el movimiento del péndulo se cambia de coordenadas polares a cartesianas, teniendo en cuenta que el ángulo se mide desde la vertical.\n",
    "$$ \\begin{align}\n",
    "x(t) = L\\sin\\theta(t) \\\\\n",
    "y(t) = -L\\cos\\theta(t)\n",
    "\\end{align} $$"
   ]
  },
  {
   "cell_type": "markdown",
   "metadata": {},
   "source": [
    "## Condiciones iniciales"
   ]
  },
  {
   "cell_type": "code",
   "execution_count": 2,
   "metadata": {
    "collapsed": false
   },
   "outputs": [],
   "source": [
    "L = 5.0  # longitud del pendulo en m\n",
    "\n",
    "th = 45.0 # th angulo inicial (grados)\n",
    "w = 0.0 # velocidad angular inicial (grados/segundo) "
   ]
  },
  {
   "cell_type": "markdown",
   "metadata": {},
   "source": [
    "## Soluciones"
   ]
  },
  {
   "cell_type": "code",
   "execution_count": 3,
   "metadata": {
    "collapsed": false
   },
   "outputs": [],
   "source": [
    "def analytic(th, w, t): \n",
    "    theta = th*cos(omega*t) + (w/omega)*sin(omega*t) # solucion analitica\n",
    "    theta_dot = omega*(-th*sin(omega*t)+(w/omega)*cos(omega*t)) # velocidad (rad/s)\n",
    "    return theta, theta_dot\n",
    "\n",
    "def derivs(state, t):\n",
    "    # solucion numerica\n",
    "    dydx = np.zeros_like(state)\n",
    "    dydx[0] = state[1]\n",
    "    dydx[1] = -(omega**2)*sin(state[0])\n",
    "    return dydx\n",
    "\n",
    "dt = 0.1\n",
    "t_max = 20\n",
    "t = np.arange(0.0, t_max, dt) # arreglo de tiempos a evaluar\n",
    "N = len(t)"
   ]
  },
  {
   "cell_type": "markdown",
   "metadata": {},
   "source": [
    "## Gráfica"
   ]
  },
  {
   "cell_type": "code",
   "execution_count": 4,
   "metadata": {
    "collapsed": false
   },
   "outputs": [],
   "source": [
    "# propiedades predeterminadas\n",
    "a_color = 'grey'\n",
    "alpha = 0.5\n",
    "\n",
    "fig = plt.figure(figsize=(12, 7))\n",
    "\n",
    "# cuadricula para las gráficas\n",
    "gs = gridspec.GridSpec(2, 2)\n",
    "ax1 = plt.subplot(gs[0:, 0])\n",
    "ax2 = plt.subplot(gs[0, 1:])\n",
    "ax3 = plt.subplot(gs[1:, -1])\n",
    "\n",
    "ax1.axis('equal')\n",
    "ax1.set_xlim(-16, 16)\n",
    "ax1.set_ylim(-16, 16)\n",
    "\n",
    "axes = [ax1, ax2, ax3] # agrupación de los ejes\n",
    "xlabels = ['$x$ (m)', 'Time (s)', r'$\\theta (t)$ (rad/s)']\n",
    "ylabels = ['$y$ (m)', r'$\\theta (t)$ (rad/s)', r'$\\dot{\\theta} (t)$ (rad/s$^2$)']\n",
    "\n",
    "# configura los ejes\n",
    "for (i, ax) in enumerate(axes):\n",
    "    ax.set_xlabel(xlabels[i])\n",
    "    ax.set_ylabel(ylabels[i])\n",
    "    ax.grid()\n",
    "\n",
    "# lista de objetos de matplotlib, por eje, dinámicos y estáticos\n",
    "ax1_dyna = [None]*2\n",
    "ax1_dyna[1] = ax1.plot([], [], 'o-', lw = 2, color = a_color, alpha = alpha, label = \"Analytical\")[0]\n",
    "ax1_dyna[0] = ax1.plot([], [], 'o-', lw = 2, label = \"Numerical\")[0]\n",
    "\n",
    "ax2_static = ax2.plot([], [])[0], ax2.plot([], [], c = a_color, alpha = alpha)[0]\n",
    "ax3_static = ax3.plot([], [])[0], ax3.plot([], [], c = a_color, alpha = alpha)[0]\n",
    "\n",
    "ax2_dyna = ax2.plot([], [], 'o', c = 'b')[0], ax2.plot([], [], 'o', c = a_color, alpha = alpha)[0]\n",
    "ax3_dyna = ax3.plot([], [], 'o', c = 'b')[0], ax3.plot([], [], 'o', c = a_color, alpha = alpha)[0]\n",
    "\n",
    "fig.tight_layout()\n",
    "fig.subplots_adjust(left=0.1, bottom=0.35)\n",
    "ax1.legend(fontsize=12).get_frame().set_alpha(0.0) # legenda en la gráfica\n",
    "\n",
    "# subejes para los sliders\n",
    "axlength = plt.axes([0.25, 0.1, 0.65, 0.03]) \n",
    "axangle = plt.axes([0.25, 0.15, 0.65, 0.03])\n",
    "axspeed = plt.axes([0.25, 0.20, 0.65, 0.03])\n",
    "\n",
    "# sliders\n",
    "slength = Slider(axlength, 'Length', 0.1, 10, valinit=L)\n",
    "sangle = Slider(axangle, 'Angle', 0.1, 180.0, valinit=th)\n",
    "sspeed = Slider(axspeed, 'Angular Speed', -50.0, 50.0, valinit=w)\n",
    "\n",
    "def init(*val):\n",
    "    \"\"\"\n",
    "    Función que inicializa la animación, calcula la solución a las ecuaciones.\n",
    "    \"\"\"\n",
    "    global xs, ys, positions, velocities, omega\n",
    "    \n",
    "    L, th, w = slength.val, sangle.val, sspeed.val\n",
    "    omega = np.sqrt(g/L)\n",
    "    state = np.radians([th, w]) # estado inicial\n",
    "\n",
    "    n_sol, n_speed = integrate.odeint(derivs, state, t).T # resuelve la ecuacion diferencial\n",
    "    a_sol, a_speed = analytic(state[0], state[1], t) # solucion analitica\n",
    "    \n",
    "    positions, velocities = [n_sol, a_sol], [n_speed, a_speed]\n",
    "    xlims = [(0, max(t)), (min(a_sol), max(a_sol))]\n",
    "    ylims = [(min(a_sol), max(a_sol)), (min(a_speed), max(a_speed))]\n",
    "    \n",
    "    for i in range(2):\n",
    "        axes[i+1].set_xlim(xlims[i])\n",
    "        axes[i+1].set_ylim(ylims[i])\n",
    "        ax2_static[i].set_data(t, positions[i])\n",
    "        ax3_static[i].set_data(positions[i], velocities[i])\n",
    "        \n",
    "        ax1_dyna[i].set_data([], [])\n",
    "        ax2_dyna[i].set_data([], [])\n",
    "        ax3_dyna[i].set_data([], [])\n",
    "\n",
    "    # cambio de coordenadas\n",
    "    x1, y1 = L*sin(n_sol), -L*cos(n_sol)\n",
    "    x2, y2 = L*sin(a_sol), -L*cos(a_sol)\n",
    "    \n",
    "    xs = [x1, x2]\n",
    "    ys = [y1, y2]\n",
    "    \n",
    "    return tuple((ax1_dyna, ax2_dyna, ax3_dyna))\n",
    "\n",
    "# redirecciona el evento\n",
    "slength.on_changed(init)\n",
    "sangle.on_changed(init)\n",
    "sspeed.on_changed(init)\n",
    "\n",
    "def animate(j):\n",
    "    for i in range(2):\n",
    "        ax1_dyna[i].set_data([0, xs[i][j]], [0, ys[i][j]])\n",
    "        ax2_dyna[i].set_data(t[j], positions[i][j])\n",
    "        ax3_dyna[i].set_data(positions[i][j], velocities[i][j])\n",
    "    \n",
    "    return tuple((ax1_dyna, ax2_dyna, ax3_dyna))\n",
    "\n",
    "ani = animation.FuncAnimation(fig, animate, np.arange(N),\n",
    "                              interval=N/20.0, init_func=init)\n",
    "\n",
    "#ani.save('Animation.gif', writer='imagemagick', fps = N/20.0, dpi = 50)\n",
    "plt.show()"
   ]
  }
 ],
 "metadata": {
  "anaconda-cloud": {},
  "kernelspec": {
   "display_name": "Python [Root]",
   "language": "python",
   "name": "Python [Root]"
  },
  "language_info": {
   "codemirror_mode": {
    "name": "ipython",
    "version": 3
   },
   "file_extension": ".py",
   "mimetype": "text/x-python",
   "name": "python",
   "nbconvert_exporter": "python",
   "pygments_lexer": "ipython3",
   "version": "3.5.2"
  }
 },
 "nbformat": 4,
 "nbformat_minor": 0
}
