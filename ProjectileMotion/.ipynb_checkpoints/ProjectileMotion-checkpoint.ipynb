{
 "cells": [
  {
   "cell_type": "markdown",
   "metadata": {},
   "source": [
    "<div>\n",
    "    <center>\n",
    "    <h1> Projectile Motion </h1>\n",
    "    <br>\n",
    "    by <a href=\"http://github.com/ComputoCienciasUniandes\"> ComputoCienciasUniandes</a> \n",
    "    <br> <a href=\"http://github.com/jsbarbosa\" > Juan Barbosa </a>\n",
    "    </center>\n",
    "</div>\n",
    "<hr style=\"height:5px\">"
   ]
  },
  {
   "cell_type": "markdown",
   "metadata": {},
   "source": [
    "# Librerías"
   ]
  },
  {
   "cell_type": "code",
   "execution_count": 2,
   "metadata": {
    "collapsed": true
   },
   "outputs": [],
   "source": [
    "import numpy as np\n",
    "from numpy import sin, cos\n",
    "\n",
    "from scipy.constants import g\n",
    "import matplotlib.pyplot as plt\n",
    "import matplotlib.animation as animation\n",
    "from matplotlib.widgets import Slider"
   ]
  },
  {
   "cell_type": "markdown",
   "metadata": {},
   "source": [
    "# Sistema\n",
    "\n",
    "La fuerza de fricción debido a un fluido viscoso es modelada empíricamente como dependiente de la velocidad.\n",
    "$$ f = \\beta v $$\n",
    "\n",
    "Debido a su naturaleza esta siempre actua en la dirección contraria al movimiento:\n",
    "$$ \\vec{F} = m\\vec{a} = -\\vec{f} + m\\vec{g} \\qquad \\vec{g} = (0, -g)$$\n",
    "\n",
    "Para la dirección $x$ se tiene la siguiente ecuación diferencial que se puede resolver usando el polinomio característico.\n",
    "$$\n",
    "\\begin{array}{c}\n",
    "\\ddot{x} = -\\frac{\\beta}{m}\\dot{x} = -b\\dot{x} \\\\\n",
    "r^2 = -br\n",
    "\\end{array}\n",
    "$$\n",
    "\n",
    "Las soluciones al polinomio son $r = 0$ y $r = -b$.\n",
    "$$ \n",
    "\\begin{array}{c}\n",
    "x(t) = Ae^{0t} + Be^{-bt} = A + Be^{-bt} \\\\\n",
    "\\dot{x}(t) = -bBe^{-bt} \n",
    "\\end{array}\n",
    "$$\n",
    "\n",
    "Con las condiciones iniciales se obtiene: $B = -v_0/b$ y $A = x_0 + v_0/b$.\n",
    "$$ x(t) = \\left(x_0 + \\frac{v_0}{b}\\right) - \\frac{v_0}{b}e^{-bt} = \\frac{x_0b + v_0\\left(1-e^{-bt}\\right)}{b}$$\n",
    "\n",
    "Para $y$ se realiza algo similar y se obtiene:\n",
    "$$ y(t) = \\frac{g \\left(-bt - e^{-bt} + 1\\right) + b\\left(by_0 + v_0\\left( 1 - e^{-b t}\\right)\\right)}{b^2} $$"
   ]
  },
  {
   "cell_type": "code",
   "execution_count": 3,
   "metadata": {
    "collapsed": false
   },
   "outputs": [],
   "source": [
    "def regular(r_0, v, th, t):\n",
    "    v_0 = [v*cos(th), v*sin(th)]\n",
    "    x = r_0[0] + v_0[0]*t\n",
    "    y = r_0[1] + v_0[1]*t -0.5*g*t**2\n",
    "    return x, y\n",
    "\n",
    "def first_order(r_0, v, th, t):\n",
    "    exp = np.exp(-b*t)\n",
    "    v_0 = [v*cos(th), v*sin(th)]\n",
    "    x = (r_0[0]*b + v_0[0]*(1 - exp))/b\n",
    "    y = (g*(-b*t-exp+1) + b*(b*r_0[1] - v_0[1]*(exp - 1)))/(b**2)\n",
    "    return x, y"
   ]
  },
  {
   "cell_type": "code",
   "execution_count": 4,
   "metadata": {
    "collapsed": false
   },
   "outputs": [],
   "source": [
    "fig, ax1 = plt.subplots()\n",
    "ax1.grid()\n",
    "\n",
    "fig.subplots_adjust(left=0.1, bottom=0.35)\n",
    "\n",
    "colors = [\"blue\", \"grey\"]\n",
    "labels = [\"Friction\", \"Frictionless\"]\n",
    "static = [ax1.plot([], [], '-', c = colors[i], label = labels[i])[0] for i in range(2)]\n",
    "dynamic = [ax1.plot([], [], 'o', c = colors[i])[0] for i in range(2)]\n",
    "\n",
    "ax1.legend(fontsize=12).get_frame().set_alpha(0.0) # legenda en la gráfica\n",
    "ax1.set_xlabel(\"$x$ (m)\")\n",
    "ax1.set_ylabel(\"$y$ (m)\")\n",
    "\n",
    "# subejes para los sliders\n",
    "axb = plt.axes([0.25, 0.1, 0.65, 0.03]) \n",
    "axangle = plt.axes([0.25, 0.15, 0.65, 0.03])\n",
    "axspeed = plt.axes([0.25, 0.20, 0.65, 0.03])\n",
    "\n",
    "# sliders\n",
    "sb = Slider(axb, '$b$', 0.0001, 10, valinit=5)\n",
    "sangle = Slider(axangle, 'Angle', 1, 89.0, valinit=45)\n",
    "sspeed = Slider(axspeed, 'Speed', 1, 10.0, valinit=5)\n",
    "\n",
    "N = 100\n",
    "\n",
    "def init(*vals):\n",
    "    global xs, ys, b\n",
    "    \n",
    "    b, th, v = sb.val, sangle.val, sspeed.val\n",
    "    r_0 = np.zeros(2)\n",
    "    th = np.deg2rad(th)\n",
    "    \n",
    "    t_max = 2*v*sin(th)/g\n",
    "    t = np.linspace(0, t_max, N)\n",
    "    \n",
    "    x_f, y_f = first_order(r_0, v, th, t)\n",
    "    x_n, y_n = regular(r_0, v, th, t)\n",
    "    \n",
    "    max_x = max(x_n)\n",
    "    max_y = max(y_n)\n",
    "    if max_x < max_y:\n",
    "        max_x = max_y\n",
    "    \n",
    "    ax1.set_xlim(0, max_x)\n",
    "    ax1.set_ylim(0, max_x)\n",
    "    \n",
    "    xs = [x_f, x_n]\n",
    "    ys = [y_f, y_n]\n",
    "    \n",
    "    for i in range(2):\n",
    "        static[i].set_data(xs[i], ys[i])\n",
    "        \n",
    "    return xs, ys\n",
    "\n",
    "sb.on_changed(init)\n",
    "sangle.on_changed(init)\n",
    "sspeed.on_changed(init)\n",
    "\n",
    "def update(i):\n",
    "    for j in range(2):\n",
    "        dynamic[j].set_data(xs[j][i], ys[j][i])\n",
    "    return tuple(dynamic)\n",
    "\n",
    "ani = animation.FuncAnimation(fig, update, N, interval = N/5, init_func=init)\n",
    "\n",
    "#ani.save(\"ProjectileMotion.gif\", writer = \"imagemagick\", fps = N/5)\n",
    "plt.show()"
   ]
  },
  {
   "cell_type": "code",
   "execution_count": null,
   "metadata": {
    "collapsed": true
   },
   "outputs": [],
   "source": []
  }
 ],
 "metadata": {
  "anaconda-cloud": {},
  "kernelspec": {
   "display_name": "Python [Root]",
   "language": "python",
   "name": "Python [Root]"
  },
  "language_info": {
   "codemirror_mode": {
    "name": "ipython",
    "version": 3
   },
   "file_extension": ".py",
   "mimetype": "text/x-python",
   "name": "python",
   "nbconvert_exporter": "python",
   "pygments_lexer": "ipython3",
   "version": "3.5.2"
  }
 },
 "nbformat": 4,
 "nbformat_minor": 0
}
