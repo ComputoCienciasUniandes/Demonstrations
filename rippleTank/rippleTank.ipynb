{
 "cells": [
  {
   "cell_type": "markdown",
   "metadata": {},
   "source": [
    "<div>\n",
    "    <center>\n",
    "    <h1> rippleTank: Ejemplos </h1>\n",
    "    <br>\n",
    "    by <a href=\"http://github.com/ComputoCienciasUniandes\"> ComputoCienciasUniandes </a>\n",
    "    <br>\n",
    "    <a href=\"http://github.com/jsbarbosa\"> Juan Barbosa </a>\n",
    "    </center>\n",
    "</div>\n",
    "<hr style=\"height:5px\">\n",
    "\n",
    "rippleTank is a simulator that aims to help students understand how waves behave on a ripple tank, as well as motivating the use of computational tools to solve physical problems. Fully written with Python\n",
    "\n",
    "https://jsbarbosa.github.io/rippleTank/"
   ]
  },
  {
   "cell_type": "markdown",
   "metadata": {},
   "source": [
    "# Librerías"
   ]
  },
  {
   "cell_type": "code",
   "execution_count": 1,
   "metadata": {
    "collapsed": false
   },
   "outputs": [
    {
     "name": "stdout",
     "output_type": "stream",
     "text": [
      "Using matplotlib backend: TkAgg\n"
     ]
    }
   ],
   "source": [
    "import rippleTank as rt\n",
    "import matplotlib.pyplot as plt\n",
    "\n",
    "%matplotlib"
   ]
  },
  {
   "cell_type": "markdown",
   "metadata": {},
   "source": [
    "# Simple sine source"
   ]
  },
  {
   "cell_type": "code",
   "execution_count": 2,
   "metadata": {
    "collapsed": true
   },
   "outputs": [],
   "source": [
    "# creates a ripple tank\n",
    "tank = rt.RippleTank()\n",
    "\n",
    "# creates a source on the ripple tank\n",
    "rt.Source(tank, rt.sineSource, freq=10)\n",
    "\n",
    "tank.simulateTime(2.0, animation_speed = 0.5)\n",
    "\n",
    "ani = tank.makeAnimation()\n",
    "# ani.save('simpleSource.gif', writer='imagemagick')\n",
    "\n",
    "plt.show()"
   ]
  },
  {
   "cell_type": "markdown",
   "metadata": {},
   "source": [
    "# Single slit"
   ]
  },
  {
   "cell_type": "code",
   "execution_count": 3,
   "metadata": {
    "collapsed": true
   },
   "outputs": [],
   "source": [
    "# creates a ripple tank\n",
    "tank = rt.RippleTank()\n",
    "\n",
    "# creates a source on the ripple tank\n",
    "rt.Source(tank, rt.sineSource, xcorners = (-15, 15), ycorners = (10, 11), freq = 10.0)\n",
    "\n",
    "rt.Mask(tank).fromFunc(rt.singleSlit, ((-15, 15), (0, tank.dy)))\n",
    "\n",
    "tank.simulateTime(2.0, animation_speed=0.5)\n",
    "\n",
    "ani = tank.makeAnimation()\n",
    "# ani.save('singleSlit.gif', writer='imagemagick')\n",
    "\n",
    "plt.show()"
   ]
  },
  {
   "cell_type": "markdown",
   "metadata": {},
   "source": [
    "# Multiple sources"
   ]
  },
  {
   "cell_type": "code",
   "execution_count": 4,
   "metadata": {
    "collapsed": false
   },
   "outputs": [],
   "source": [
    "# creates a ripple tank\n",
    "tank = rt.RippleTank()#bc = 'close')\n",
    "\n",
    "x0, y0 = -5, 0\n",
    "# creates a source on the ripple tank\n",
    "rt.Source(tank, rt.sineSource, xcorners = (x0-tank.dx, x0+tank.dx),\n",
    "                                        ycorners = (y0-tank.dy, y0+tank.dy), freq = 10.0)\n",
    "x1, y1 = 5, 0\n",
    "rt.Source(tank, rt.sineSource, xcorners = (x1-tank.dx, x1+tank.dx),\n",
    "                                        ycorners = (y1-tank.dy, y1+tank.dy), freq = 5.0)\n",
    "\n",
    "tank.simulateTime(1.0, animation_speed=0.5)\n",
    "\n",
    "ani = tank.makeAnimation()\n",
    "# ani.save('multipleSources.gif', writer='imagemagick')\n",
    "\n",
    "plt.show()"
   ]
  },
  {
   "cell_type": "code",
   "execution_count": null,
   "metadata": {
    "collapsed": true
   },
   "outputs": [],
   "source": []
  }
 ],
 "metadata": {
  "kernelspec": {
   "display_name": "Python 3",
   "language": "python",
   "name": "python3"
  },
  "language_info": {
   "codemirror_mode": {
    "name": "ipython",
    "version": 3
   },
   "file_extension": ".py",
   "mimetype": "text/x-python",
   "name": "python",
   "nbconvert_exporter": "python",
   "pygments_lexer": "ipython3",
   "version": "3.4.5"
  }
 },
 "nbformat": 4,
 "nbformat_minor": 2
}
